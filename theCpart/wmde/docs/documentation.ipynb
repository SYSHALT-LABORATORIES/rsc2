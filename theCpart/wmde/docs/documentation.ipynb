{
 "cells": [
  {
   "cell_type": "markdown",
   "id": "1a0ebed9",
   "metadata": {},
   "source": [
    "# Documentation for the rsc² TUI\n",
    "\n",
    "***\n",
    "\n",
    "## draw_window()\n",
    "\n",
    "    int draw_window(int *w, int *h, int *x, int *y)\n",
    "\n",
    "***\n",
    "\n",
    "Draws a simple window\n",
    "Is recommended to be used in a `for(;;)`\\\n",
    "loop with `c_clrscr()` <- (`include/conio.h` and `include/conio.c`)\\\n",
    "respectively to redraw the window"
   ]
  }
 ],
 "metadata": {
  "language_info": {
   "name": "python"
  }
 },
 "nbformat": 4,
 "nbformat_minor": 5
}
